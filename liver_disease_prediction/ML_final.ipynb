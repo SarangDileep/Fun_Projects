{
  "nbformat": 4,
  "nbformat_minor": 0,
  "metadata": {
    "kernelspec": {
      "display_name": "Python 3",
      "language": "python",
      "name": "python3"
    },
    "language_info": {
      "codemirror_mode": {
        "name": "ipython",
        "version": 3
      },
      "file_extension": ".py",
      "mimetype": "text/x-python",
      "name": "python",
      "nbconvert_exporter": "python",
      "pygments_lexer": "ipython3",
      "version": "3.8.3"
    },
    "colab": {
      "name": "ML_final.ipynb",
      "provenance": []
    }
  },
  "cells": [
    {
      "cell_type": "code",
      "metadata": {
        "id": "aKijInXTxW2Y"
      },
      "source": [
        "import numpy as np\n",
        "import pandas as pd\n",
        "import seaborn as sns\n",
        "import matplotlib.pyplot as plt"
      ],
      "execution_count": null,
      "outputs": []
    },
    {
      "cell_type": "markdown",
      "metadata": {
        "id": "a1wtuC0IxW2Y"
      },
      "source": [
        "                A)DATA PREPROCESSING"
      ]
    },
    {
      "cell_type": "code",
      "metadata": {
        "id": "KNu8xT-6xW2Y"
      },
      "source": [
        "data=pd.read_csv(\"indian_liver_patient.csv\")"
      ],
      "execution_count": null,
      "outputs": []
    },
    {
      "cell_type": "code",
      "metadata": {
        "colab": {
          "base_uri": "https://localhost:8080/"
        },
        "id": "TxsZHiCbPbdY",
        "outputId": "4b5fc008-2185-4c7d-935a-f67b55e91122"
      },
      "source": [
        "data.rename(columns={'Dataset':'Outcome'}, inplace=True)\n",
        "data.info()"
      ],
      "execution_count": null,
      "outputs": [
        {
          "output_type": "stream",
          "name": "stdout",
          "text": [
            "<class 'pandas.core.frame.DataFrame'>\n",
            "Int64Index: 583 entries, 0 to 582\n",
            "Data columns (total 11 columns):\n",
            " #   Column                      Non-Null Count  Dtype  \n",
            "---  ------                      --------------  -----  \n",
            " 0   Age                         583 non-null    int64  \n",
            " 1   Gender                      583 non-null    object \n",
            " 2   Total_Bilirubin             583 non-null    float64\n",
            " 3   Direct_Bilirubin            583 non-null    float64\n",
            " 4   Alkaline_Phosphotase        583 non-null    int64  \n",
            " 5   Alamine_Aminotransferase    583 non-null    int64  \n",
            " 6   Aspartate_Aminotransferase  583 non-null    int64  \n",
            " 7   Total_Protiens              583 non-null    float64\n",
            " 8   Albumin                     583 non-null    float64\n",
            " 9   Albumin_and_Globulin_Ratio  579 non-null    float64\n",
            " 10  Outcome                     583 non-null    int64  \n",
            "dtypes: float64(5), int64(5), object(1)\n",
            "memory usage: 54.7+ KB\n"
          ]
        }
      ]
    },
    {
      "cell_type": "code",
      "metadata": {
        "colab": {
          "base_uri": "https://localhost:8080/",
          "height": 223
        },
        "id": "3AfnKMggPwxc",
        "outputId": "2218b846-efbb-4171-cc1b-d87b8a74cbda"
      },
      "source": [
        "data['Gender'] = data['Gender'].map({'Male': 1, 'Female': 0})\n",
        "data.head()"
      ],
      "execution_count": null,
      "outputs": [
        {
          "output_type": "execute_result",
          "data": {
            "text/html": [
              "<div>\n",
              "<style scoped>\n",
              "    .dataframe tbody tr th:only-of-type {\n",
              "        vertical-align: middle;\n",
              "    }\n",
              "\n",
              "    .dataframe tbody tr th {\n",
              "        vertical-align: top;\n",
              "    }\n",
              "\n",
              "    .dataframe thead th {\n",
              "        text-align: right;\n",
              "    }\n",
              "</style>\n",
              "<table border=\"1\" class=\"dataframe\">\n",
              "  <thead>\n",
              "    <tr style=\"text-align: right;\">\n",
              "      <th></th>\n",
              "      <th>Age</th>\n",
              "      <th>Gender</th>\n",
              "      <th>Total_Bilirubin</th>\n",
              "      <th>Direct_Bilirubin</th>\n",
              "      <th>Alkaline_Phosphotase</th>\n",
              "      <th>Alamine_Aminotransferase</th>\n",
              "      <th>Aspartate_Aminotransferase</th>\n",
              "      <th>Total_Protiens</th>\n",
              "      <th>Albumin</th>\n",
              "      <th>Albumin_and_Globulin_Ratio</th>\n",
              "      <th>Outcome</th>\n",
              "    </tr>\n",
              "  </thead>\n",
              "  <tbody>\n",
              "    <tr>\n",
              "      <th>0</th>\n",
              "      <td>65</td>\n",
              "      <td>0</td>\n",
              "      <td>0.7</td>\n",
              "      <td>0.1</td>\n",
              "      <td>187</td>\n",
              "      <td>16</td>\n",
              "      <td>18</td>\n",
              "      <td>6.8</td>\n",
              "      <td>3.3</td>\n",
              "      <td>0.90</td>\n",
              "      <td>1</td>\n",
              "    </tr>\n",
              "    <tr>\n",
              "      <th>1</th>\n",
              "      <td>62</td>\n",
              "      <td>1</td>\n",
              "      <td>10.9</td>\n",
              "      <td>5.5</td>\n",
              "      <td>699</td>\n",
              "      <td>64</td>\n",
              "      <td>100</td>\n",
              "      <td>7.5</td>\n",
              "      <td>3.2</td>\n",
              "      <td>0.74</td>\n",
              "      <td>1</td>\n",
              "    </tr>\n",
              "    <tr>\n",
              "      <th>2</th>\n",
              "      <td>62</td>\n",
              "      <td>1</td>\n",
              "      <td>7.3</td>\n",
              "      <td>4.1</td>\n",
              "      <td>490</td>\n",
              "      <td>60</td>\n",
              "      <td>68</td>\n",
              "      <td>7.0</td>\n",
              "      <td>3.3</td>\n",
              "      <td>0.89</td>\n",
              "      <td>1</td>\n",
              "    </tr>\n",
              "    <tr>\n",
              "      <th>3</th>\n",
              "      <td>58</td>\n",
              "      <td>1</td>\n",
              "      <td>1.0</td>\n",
              "      <td>0.4</td>\n",
              "      <td>182</td>\n",
              "      <td>14</td>\n",
              "      <td>20</td>\n",
              "      <td>6.8</td>\n",
              "      <td>3.4</td>\n",
              "      <td>1.00</td>\n",
              "      <td>1</td>\n",
              "    </tr>\n",
              "    <tr>\n",
              "      <th>4</th>\n",
              "      <td>72</td>\n",
              "      <td>1</td>\n",
              "      <td>3.9</td>\n",
              "      <td>2.0</td>\n",
              "      <td>195</td>\n",
              "      <td>27</td>\n",
              "      <td>59</td>\n",
              "      <td>7.3</td>\n",
              "      <td>2.4</td>\n",
              "      <td>0.40</td>\n",
              "      <td>1</td>\n",
              "    </tr>\n",
              "  </tbody>\n",
              "</table>\n",
              "</div>"
            ],
            "text/plain": [
              "   Age  Gender  Total_Bilirubin  ...  Albumin  Albumin_and_Globulin_Ratio  Outcome\n",
              "0   65       0              0.7  ...      3.3                        0.90        1\n",
              "1   62       1             10.9  ...      3.2                        0.74        1\n",
              "2   62       1              7.3  ...      3.3                        0.89        1\n",
              "3   58       1              1.0  ...      3.4                        1.00        1\n",
              "4   72       1              3.9  ...      2.4                        0.40        1\n",
              "\n",
              "[5 rows x 11 columns]"
            ]
          },
          "metadata": {},
          "execution_count": 4
        }
      ]
    },
    {
      "cell_type": "markdown",
      "metadata": {
        "id": "s6NfkSAsxW2Y"
      },
      "source": [
        "                1)DATA NORMALISATION"
      ]
    },
    {
      "cell_type": "code",
      "metadata": {
        "colab": {
          "base_uri": "https://localhost:8080/",
          "height": 377
        },
        "id": "3hiSza1UxW2Y",
        "outputId": "f51d7298-a21f-48bf-b5c5-5b2c64e5e56f"
      },
      "source": [
        "x = data.iloc[:,1:]\n",
        "\n",
        "#normalize values \n",
        "data.iloc[:,1:] = (x-x.min())/ (x.max() - x.min())\n",
        "\n",
        "#view normalized DataFrame \n",
        "data.head(10)"
      ],
      "execution_count": null,
      "outputs": [
        {
          "output_type": "execute_result",
          "data": {
            "text/html": [
              "<div>\n",
              "<style scoped>\n",
              "    .dataframe tbody tr th:only-of-type {\n",
              "        vertical-align: middle;\n",
              "    }\n",
              "\n",
              "    .dataframe tbody tr th {\n",
              "        vertical-align: top;\n",
              "    }\n",
              "\n",
              "    .dataframe thead th {\n",
              "        text-align: right;\n",
              "    }\n",
              "</style>\n",
              "<table border=\"1\" class=\"dataframe\">\n",
              "  <thead>\n",
              "    <tr style=\"text-align: right;\">\n",
              "      <th></th>\n",
              "      <th>Age</th>\n",
              "      <th>Gender</th>\n",
              "      <th>Total_Bilirubin</th>\n",
              "      <th>Direct_Bilirubin</th>\n",
              "      <th>Alkaline_Phosphotase</th>\n",
              "      <th>Alamine_Aminotransferase</th>\n",
              "      <th>Aspartate_Aminotransferase</th>\n",
              "      <th>Total_Protiens</th>\n",
              "      <th>Albumin</th>\n",
              "      <th>Albumin_and_Globulin_Ratio</th>\n",
              "      <th>Outcome</th>\n",
              "    </tr>\n",
              "  </thead>\n",
              "  <tbody>\n",
              "    <tr>\n",
              "      <th>0</th>\n",
              "      <td>65</td>\n",
              "      <td>0.0</td>\n",
              "      <td>0.004021</td>\n",
              "      <td>0.000000</td>\n",
              "      <td>0.060576</td>\n",
              "      <td>0.003015</td>\n",
              "      <td>0.001626</td>\n",
              "      <td>0.594203</td>\n",
              "      <td>0.521739</td>\n",
              "      <td>0.240</td>\n",
              "      <td>0.0</td>\n",
              "    </tr>\n",
              "    <tr>\n",
              "      <th>1</th>\n",
              "      <td>62</td>\n",
              "      <td>1.0</td>\n",
              "      <td>0.140751</td>\n",
              "      <td>0.275510</td>\n",
              "      <td>0.310699</td>\n",
              "      <td>0.027136</td>\n",
              "      <td>0.018296</td>\n",
              "      <td>0.695652</td>\n",
              "      <td>0.500000</td>\n",
              "      <td>0.176</td>\n",
              "      <td>0.0</td>\n",
              "    </tr>\n",
              "    <tr>\n",
              "      <th>2</th>\n",
              "      <td>62</td>\n",
              "      <td>1.0</td>\n",
              "      <td>0.092493</td>\n",
              "      <td>0.204082</td>\n",
              "      <td>0.208598</td>\n",
              "      <td>0.025126</td>\n",
              "      <td>0.011791</td>\n",
              "      <td>0.623188</td>\n",
              "      <td>0.521739</td>\n",
              "      <td>0.236</td>\n",
              "      <td>0.0</td>\n",
              "    </tr>\n",
              "    <tr>\n",
              "      <th>3</th>\n",
              "      <td>58</td>\n",
              "      <td>1.0</td>\n",
              "      <td>0.008043</td>\n",
              "      <td>0.015306</td>\n",
              "      <td>0.058134</td>\n",
              "      <td>0.002010</td>\n",
              "      <td>0.002033</td>\n",
              "      <td>0.594203</td>\n",
              "      <td>0.543478</td>\n",
              "      <td>0.280</td>\n",
              "      <td>0.0</td>\n",
              "    </tr>\n",
              "    <tr>\n",
              "      <th>4</th>\n",
              "      <td>72</td>\n",
              "      <td>1.0</td>\n",
              "      <td>0.046917</td>\n",
              "      <td>0.096939</td>\n",
              "      <td>0.064485</td>\n",
              "      <td>0.008543</td>\n",
              "      <td>0.009961</td>\n",
              "      <td>0.666667</td>\n",
              "      <td>0.326087</td>\n",
              "      <td>0.040</td>\n",
              "      <td>0.0</td>\n",
              "    </tr>\n",
              "    <tr>\n",
              "      <th>5</th>\n",
              "      <td>46</td>\n",
              "      <td>1.0</td>\n",
              "      <td>0.018767</td>\n",
              "      <td>0.030612</td>\n",
              "      <td>0.070835</td>\n",
              "      <td>0.004523</td>\n",
              "      <td>0.000813</td>\n",
              "      <td>0.710145</td>\n",
              "      <td>0.760870</td>\n",
              "      <td>0.400</td>\n",
              "      <td>0.0</td>\n",
              "    </tr>\n",
              "    <tr>\n",
              "      <th>6</th>\n",
              "      <td>26</td>\n",
              "      <td>0.0</td>\n",
              "      <td>0.006702</td>\n",
              "      <td>0.005102</td>\n",
              "      <td>0.044455</td>\n",
              "      <td>0.003015</td>\n",
              "      <td>0.000407</td>\n",
              "      <td>0.623188</td>\n",
              "      <td>0.565217</td>\n",
              "      <td>0.280</td>\n",
              "      <td>0.0</td>\n",
              "    </tr>\n",
              "    <tr>\n",
              "      <th>7</th>\n",
              "      <td>29</td>\n",
              "      <td>0.0</td>\n",
              "      <td>0.006702</td>\n",
              "      <td>0.010204</td>\n",
              "      <td>0.067904</td>\n",
              "      <td>0.002010</td>\n",
              "      <td>0.000203</td>\n",
              "      <td>0.579710</td>\n",
              "      <td>0.586957</td>\n",
              "      <td>0.320</td>\n",
              "      <td>0.0</td>\n",
              "    </tr>\n",
              "    <tr>\n",
              "      <th>8</th>\n",
              "      <td>17</td>\n",
              "      <td>1.0</td>\n",
              "      <td>0.006702</td>\n",
              "      <td>0.010204</td>\n",
              "      <td>0.067904</td>\n",
              "      <td>0.006030</td>\n",
              "      <td>0.001830</td>\n",
              "      <td>0.681159</td>\n",
              "      <td>0.695652</td>\n",
              "      <td>0.360</td>\n",
              "      <td>1.0</td>\n",
              "    </tr>\n",
              "    <tr>\n",
              "      <th>9</th>\n",
              "      <td>55</td>\n",
              "      <td>1.0</td>\n",
              "      <td>0.004021</td>\n",
              "      <td>0.005102</td>\n",
              "      <td>0.110894</td>\n",
              "      <td>0.021608</td>\n",
              "      <td>0.009758</td>\n",
              "      <td>0.594203</td>\n",
              "      <td>0.543478</td>\n",
              "      <td>0.280</td>\n",
              "      <td>0.0</td>\n",
              "    </tr>\n",
              "  </tbody>\n",
              "</table>\n",
              "</div>"
            ],
            "text/plain": [
              "   Age  Gender  Total_Bilirubin  ...   Albumin  Albumin_and_Globulin_Ratio  Outcome\n",
              "0   65     0.0         0.004021  ...  0.521739                       0.240      0.0\n",
              "1   62     1.0         0.140751  ...  0.500000                       0.176      0.0\n",
              "2   62     1.0         0.092493  ...  0.521739                       0.236      0.0\n",
              "3   58     1.0         0.008043  ...  0.543478                       0.280      0.0\n",
              "4   72     1.0         0.046917  ...  0.326087                       0.040      0.0\n",
              "5   46     1.0         0.018767  ...  0.760870                       0.400      0.0\n",
              "6   26     0.0         0.006702  ...  0.565217                       0.280      0.0\n",
              "7   29     0.0         0.006702  ...  0.586957                       0.320      0.0\n",
              "8   17     1.0         0.006702  ...  0.695652                       0.360      1.0\n",
              "9   55     1.0         0.004021  ...  0.543478                       0.280      0.0\n",
              "\n",
              "[10 rows x 11 columns]"
            ]
          },
          "metadata": {},
          "execution_count": 5
        }
      ]
    },
    {
      "cell_type": "code",
      "metadata": {
        "id": "b14pGFuaxW2Y",
        "colab": {
          "base_uri": "https://localhost:8080/",
          "height": 274
        },
        "outputId": "3d016785-0087-4fdc-de87-3e2b69a9c527"
      },
      "source": [
        "data.plot(kind='bar') \n",
        "\n",
        "plt.show() "
      ],
      "execution_count": null,
      "outputs": [
        {
          "output_type": "display_data",
          "data": {
            "image/png": "[encoded data removed]",
            "text/plain": [
              "<Figure size 432x288 with 1 Axes>"
            ]
          },
          "metadata": {
            "needs_background": "light"
          }
        }
      ]
    },
    {
      "cell_type": "markdown",
      "metadata": {
        "id": "v3IaV5WkxW2Y"
      },
      "source": [
        "            2)STANDARDISATION"
      ]
    },
    {
      "cell_type": "code",
      "metadata": {
        "id": "HcYeCzgoxW2Y",
        "colab": {
          "base_uri": "https://localhost:8080/"
        },
        "outputId": "5bef39bf-836d-4e6c-f197-97098d26c1c6"
      },
      "source": [
        "from sklearn.preprocessing import StandardScaler\n",
        "import pandas\n",
        "import numpy\n",
        "arr=data.values #convert data frame to array\n",
        "X=arr[:,0:10] #not normalizing id column and class column\n",
        "Y=arr[:,10]\n",
        "scaler=StandardScaler().fit(X) #fit data for standardization\n",
        "rescaledX=scaler.transform(X) #convert the data as per (x-µ)/σ\n",
        "numpy.set_printoptions(precision=3)\n",
        "print(\"Standardized:\\n\")\n",
        "print(rescaledX[0:2,:])\n",
        "print(X[0:2,:])"
      ],
      "execution_count": null,
      "outputs": [
        {
          "output_type": "stream",
          "name": "stdout",
          "text": [
            "Standardized:\n",
            "\n",
            "[[ 1.252 -1.762 -0.419 -0.494 -0.427 -0.355 -0.318  0.292  0.199 -0.147]\n",
            " [ 1.067  0.567  1.225  1.43   1.683 -0.092 -0.034  0.938  0.073 -0.648]]\n",
            "[[6.500e+01 0.000e+00 4.021e-03 0.000e+00 6.058e-02 3.015e-03 1.626e-03\n",
            "  5.942e-01 5.217e-01 2.400e-01]\n",
            " [6.200e+01 1.000e+00 1.408e-01 2.755e-01 3.107e-01 2.714e-02 1.830e-02\n",
            "  6.957e-01 5.000e-01 1.760e-01]]\n"
          ]
        }
      ]
    },
    {
      "cell_type": "markdown",
      "metadata": {
        "id": "06r-Ecn-xW2Y"
      },
      "source": [
        "            3)No missing places in dataset for values to be imputed"
      ]
    },
    {
      "cell_type": "markdown",
      "metadata": {
        "id": "Iw2vNnP5xW2Y"
      },
      "source": [
        "        B)DATA SUMMARISATION"
      ]
    },
    {
      "cell_type": "code",
      "metadata": {
        "id": "D7AfdoLlxW2Y",
        "colab": {
          "base_uri": "https://localhost:8080/",
          "height": 223
        },
        "outputId": "0cf8e21e-73c0-4744-c0b3-36b1b991d97e"
      },
      "source": [
        "data.head()"
      ],
      "execution_count": null,
      "outputs": [
        {
          "output_type": "execute_result",
          "data": {
            "text/html": [
              "<div>\n",
              "<style scoped>\n",
              "    .dataframe tbody tr th:only-of-type {\n",
              "        vertical-align: middle;\n",
              "    }\n",
              "\n",
              "    .dataframe tbody tr th {\n",
              "        vertical-align: top;\n",
              "    }\n",
              "\n",
              "    .dataframe thead th {\n",
              "        text-align: right;\n",
              "    }\n",
              "</style>\n",
              "<table border=\"1\" class=\"dataframe\">\n",
              "  <thead>\n",
              "    <tr style=\"text-align: right;\">\n",
              "      <th></th>\n",
              "      <th>Age</th>\n",
              "      <th>Gender</th>\n",
              "      <th>Total_Bilirubin</th>\n",
              "      <th>Direct_Bilirubin</th>\n",
              "      <th>Alkaline_Phosphotase</th>\n",
              "      <th>Alamine_Aminotransferase</th>\n",
              "      <th>Aspartate_Aminotransferase</th>\n",
              "      <th>Total_Protiens</th>\n",
              "      <th>Albumin</th>\n",
              "      <th>Albumin_and_Globulin_Ratio</th>\n",
              "      <th>Outcome</th>\n",
              "    </tr>\n",
              "  </thead>\n",
              "  <tbody>\n",
              "    <tr>\n",
              "      <th>0</th>\n",
              "      <td>65</td>\n",
              "      <td>0.0</td>\n",
              "      <td>0.004021</td>\n",
              "      <td>0.000000</td>\n",
              "      <td>0.060576</td>\n",
              "      <td>0.003015</td>\n",
              "      <td>0.001626</td>\n",
              "      <td>0.594203</td>\n",
              "      <td>0.521739</td>\n",
              "      <td>0.240</td>\n",
              "      <td>0.0</td>\n",
              "    </tr>\n",
              "    <tr>\n",
              "      <th>1</th>\n",
              "      <td>62</td>\n",
              "      <td>1.0</td>\n",
              "      <td>0.140751</td>\n",
              "      <td>0.275510</td>\n",
              "      <td>0.310699</td>\n",
              "      <td>0.027136</td>\n",
              "      <td>0.018296</td>\n",
              "      <td>0.695652</td>\n",
              "      <td>0.500000</td>\n",
              "      <td>0.176</td>\n",
              "      <td>0.0</td>\n",
              "    </tr>\n",
              "    <tr>\n",
              "      <th>2</th>\n",
              "      <td>62</td>\n",
              "      <td>1.0</td>\n",
              "      <td>0.092493</td>\n",
              "      <td>0.204082</td>\n",
              "      <td>0.208598</td>\n",
              "      <td>0.025126</td>\n",
              "      <td>0.011791</td>\n",
              "      <td>0.623188</td>\n",
              "      <td>0.521739</td>\n",
              "      <td>0.236</td>\n",
              "      <td>0.0</td>\n",
              "    </tr>\n",
              "    <tr>\n",
              "      <th>3</th>\n",
              "      <td>58</td>\n",
              "      <td>1.0</td>\n",
              "      <td>0.008043</td>\n",
              "      <td>0.015306</td>\n",
              "      <td>0.058134</td>\n",
              "      <td>0.002010</td>\n",
              "      <td>0.002033</td>\n",
              "      <td>0.594203</td>\n",
              "      <td>0.543478</td>\n",
              "      <td>0.280</td>\n",
              "      <td>0.0</td>\n",
              "    </tr>\n",
              "    <tr>\n",
              "      <th>4</th>\n",
              "      <td>72</td>\n",
              "      <td>1.0</td>\n",
              "      <td>0.046917</td>\n",
              "      <td>0.096939</td>\n",
              "      <td>0.064485</td>\n",
              "      <td>0.008543</td>\n",
              "      <td>0.009961</td>\n",
              "      <td>0.666667</td>\n",
              "      <td>0.326087</td>\n",
              "      <td>0.040</td>\n",
              "      <td>0.0</td>\n",
              "    </tr>\n",
              "  </tbody>\n",
              "</table>\n",
              "</div>"
            ],
            "text/plain": [
              "   Age  Gender  Total_Bilirubin  ...   Albumin  Albumin_and_Globulin_Ratio  Outcome\n",
              "0   65     0.0         0.004021  ...  0.521739                       0.240      0.0\n",
              "1   62     1.0         0.140751  ...  0.500000                       0.176      0.0\n",
              "2   62     1.0         0.092493  ...  0.521739                       0.236      0.0\n",
              "3   58     1.0         0.008043  ...  0.543478                       0.280      0.0\n",
              "4   72     1.0         0.046917  ...  0.326087                       0.040      0.0\n",
              "\n",
              "[5 rows x 11 columns]"
            ]
          },
          "metadata": {},
          "execution_count": 8
        }
      ]
    },
    {
      "cell_type": "code",
      "metadata": {
        "id": "UBggva1rxW2Y",
        "colab": {
          "base_uri": "https://localhost:8080/"
        },
        "outputId": "40b5b86e-03e4-49cc-b5a7-587231ef8df0"
      },
      "source": [
        "data.isnull().sum() "
      ],
      "execution_count": null,
      "outputs": [
        {
          "output_type": "execute_result",
          "data": {
            "text/plain": [
              "Age                           0\n",
              "Gender                        0\n",
              "Total_Bilirubin               0\n",
              "Direct_Bilirubin              0\n",
              "Alkaline_Phosphotase          0\n",
              "Alamine_Aminotransferase      0\n",
              "Aspartate_Aminotransferase    0\n",
              "Total_Protiens                0\n",
              "Albumin                       0\n",
              "Albumin_and_Globulin_Ratio    4\n",
              "Outcome                       0\n",
              "dtype: int64"
            ]
          },
          "metadata": {},
          "execution_count": 9
        }
      ]
    },
    {
      "cell_type": "code",
      "metadata": {
        "id": "0kgjl-J0xW2Y",
        "colab": {
          "base_uri": "https://localhost:8080/"
        },
        "outputId": "86ae5c9d-cc26-4bfb-ac12-5c6f62887e25"
      },
      "source": [
        "data.dtypes  #THE FEATURES ARE INTEGER AND FLOAT"
      ],
      "execution_count": null,
      "outputs": [
        {
          "output_type": "execute_result",
          "data": {
            "text/plain": [
              "Age                             int64\n",
              "Gender                        float64\n",
              "Total_Bilirubin               float64\n",
              "Direct_Bilirubin              float64\n",
              "Alkaline_Phosphotase          float64\n",
              "Alamine_Aminotransferase      float64\n",
              "Aspartate_Aminotransferase    float64\n",
              "Total_Protiens                float64\n",
              "Albumin                       float64\n",
              "Albumin_and_Globulin_Ratio    float64\n",
              "Outcome                       float64\n",
              "dtype: object"
            ]
          },
          "metadata": {},
          "execution_count": 11
        }
      ]
    },
    {
      "cell_type": "code",
      "metadata": {
        "id": "NFYJB8DrxW2Y",
        "colab": {
          "base_uri": "https://localhost:8080/"
        },
        "outputId": "c66bf5a4-eec5-425e-aec7-ff6ef34dbfaa"
      },
      "source": [
        "print(data.shape) "
      ],
      "execution_count": null,
      "outputs": [
        {
          "output_type": "stream",
          "name": "stdout",
          "text": [
            "(583, 11)\n"
          ]
        }
      ]
    },
    {
      "cell_type": "code",
      "metadata": {
        "id": "RnLtghCexW2Y",
        "colab": {
          "base_uri": "https://localhost:8080/"
        },
        "outputId": "df7690f0-dc02-4b1e-9664-eca841e9e068"
      },
      "source": [
        "data.info()"
      ],
      "execution_count": null,
      "outputs": [
        {
          "output_type": "stream",
          "name": "stdout",
          "text": [
            "<class 'pandas.core.frame.DataFrame'>\n",
            "Int64Index: 583 entries, 0 to 582\n",
            "Data columns (total 11 columns):\n",
            " #   Column                      Non-Null Count  Dtype  \n",
            "---  ------                      --------------  -----  \n",
            " 0   Age                         583 non-null    int64  \n",
            " 1   Gender                      583 non-null    float64\n",
            " 2   Total_Bilirubin             583 non-null    float64\n",
            " 3   Direct_Bilirubin            583 non-null    float64\n",
            " 4   Alkaline_Phosphotase        583 non-null    float64\n",
            " 5   Alamine_Aminotransferase    583 non-null    float64\n",
            " 6   Aspartate_Aminotransferase  583 non-null    float64\n",
            " 7   Total_Protiens              583 non-null    float64\n",
            " 8   Albumin                     583 non-null    float64\n",
            " 9   Albumin_and_Globulin_Ratio  579 non-null    float64\n",
            " 10  Outcome                     583 non-null    float64\n",
            "dtypes: float64(10), int64(1)\n",
            "memory usage: 54.7 KB\n"
          ]
        }
      ]
    },
    {
      "cell_type": "code",
      "metadata": {
        "id": "UbVymiGUxW2Y",
        "colab": {
          "base_uri": "https://localhost:8080/",
          "height": 315
        },
        "outputId": "fa749ffb-e284-4215-f93b-b5107a4a0bfb"
      },
      "source": [
        "data.describe()"
      ],
      "execution_count": null,
      "outputs": [
        {
          "output_type": "execute_result",
          "data": {
            "text/html": [
              "<div>\n",
              "<style scoped>\n",
              "    .dataframe tbody tr th:only-of-type {\n",
              "        vertical-align: middle;\n",
              "    }\n",
              "\n",
              "    .dataframe tbody tr th {\n",
              "        vertical-align: top;\n",
              "    }\n",
              "\n",
              "    .dataframe thead th {\n",
              "        text-align: right;\n",
              "    }\n",
              "</style>\n",
              "<table border=\"1\" class=\"dataframe\">\n",
              "  <thead>\n",
              "    <tr style=\"text-align: right;\">\n",
              "      <th></th>\n",
              "      <th>Age</th>\n",
              "      <th>Gender</th>\n",
              "      <th>Total_Bilirubin</th>\n",
              "      <th>Direct_Bilirubin</th>\n",
              "      <th>Alkaline_Phosphotase</th>\n",
              "      <th>Alamine_Aminotransferase</th>\n",
              "      <th>Aspartate_Aminotransferase</th>\n",
              "      <th>Total_Protiens</th>\n",
              "      <th>Albumin</th>\n",
              "      <th>Albumin_and_Globulin_Ratio</th>\n",
              "      <th>Outcome</th>\n",
              "    </tr>\n",
              "  </thead>\n",
              "  <tbody>\n",
              "    <tr>\n",
              "      <th>count</th>\n",
              "      <td>583.000000</td>\n",
              "      <td>583.000000</td>\n",
              "      <td>583.000000</td>\n",
              "      <td>583.000000</td>\n",
              "      <td>583.000000</td>\n",
              "      <td>583.000000</td>\n",
              "      <td>583.000000</td>\n",
              "      <td>583.000000</td>\n",
              "      <td>583.000000</td>\n",
              "      <td>579.000000</td>\n",
              "      <td>583.000000</td>\n",
              "    </tr>\n",
              "    <tr>\n",
              "      <th>mean</th>\n",
              "      <td>44.746141</td>\n",
              "      <td>0.756432</td>\n",
              "      <td>0.038858</td>\n",
              "      <td>0.070720</td>\n",
              "      <td>0.111176</td>\n",
              "      <td>0.035534</td>\n",
              "      <td>0.020311</td>\n",
              "      <td>0.548288</td>\n",
              "      <td>0.487359</td>\n",
              "      <td>0.258826</td>\n",
              "      <td>0.286449</td>\n",
              "    </tr>\n",
              "    <tr>\n",
              "      <th>std</th>\n",
              "      <td>16.189833</td>\n",
              "      <td>0.429603</td>\n",
              "      <td>0.083238</td>\n",
              "      <td>0.143291</td>\n",
              "      <td>0.118680</td>\n",
              "      <td>0.091769</td>\n",
              "      <td>0.058735</td>\n",
              "      <td>0.157312</td>\n",
              "      <td>0.172939</td>\n",
              "      <td>0.127837</td>\n",
              "      <td>0.452490</td>\n",
              "    </tr>\n",
              "    <tr>\n",
              "      <th>min</th>\n",
              "      <td>4.000000</td>\n",
              "      <td>0.000000</td>\n",
              "      <td>0.000000</td>\n",
              "      <td>0.000000</td>\n",
              "      <td>0.000000</td>\n",
              "      <td>0.000000</td>\n",
              "      <td>0.000000</td>\n",
              "      <td>0.000000</td>\n",
              "      <td>0.000000</td>\n",
              "      <td>0.000000</td>\n",
              "      <td>0.000000</td>\n",
              "    </tr>\n",
              "    <tr>\n",
              "      <th>25%</th>\n",
              "      <td>33.000000</td>\n",
              "      <td>1.000000</td>\n",
              "      <td>0.005362</td>\n",
              "      <td>0.005102</td>\n",
              "      <td>0.054958</td>\n",
              "      <td>0.006533</td>\n",
              "      <td>0.003049</td>\n",
              "      <td>0.449275</td>\n",
              "      <td>0.369565</td>\n",
              "      <td>0.160000</td>\n",
              "      <td>0.000000</td>\n",
              "    </tr>\n",
              "    <tr>\n",
              "      <th>50%</th>\n",
              "      <td>45.000000</td>\n",
              "      <td>1.000000</td>\n",
              "      <td>0.008043</td>\n",
              "      <td>0.010204</td>\n",
              "      <td>0.070835</td>\n",
              "      <td>0.012563</td>\n",
              "      <td>0.006505</td>\n",
              "      <td>0.565217</td>\n",
              "      <td>0.478261</td>\n",
              "      <td>0.252000</td>\n",
              "      <td>0.000000</td>\n",
              "    </tr>\n",
              "    <tr>\n",
              "      <th>75%</th>\n",
              "      <td>58.000000</td>\n",
              "      <td>1.000000</td>\n",
              "      <td>0.029491</td>\n",
              "      <td>0.061224</td>\n",
              "      <td>0.114802</td>\n",
              "      <td>0.025377</td>\n",
              "      <td>0.015654</td>\n",
              "      <td>0.652174</td>\n",
              "      <td>0.630435</td>\n",
              "      <td>0.320000</td>\n",
              "      <td>1.000000</td>\n",
              "    </tr>\n",
              "    <tr>\n",
              "      <th>max</th>\n",
              "      <td>90.000000</td>\n",
              "      <td>1.000000</td>\n",
              "      <td>1.000000</td>\n",
              "      <td>1.000000</td>\n",
              "      <td>1.000000</td>\n",
              "      <td>1.000000</td>\n",
              "      <td>1.000000</td>\n",
              "      <td>1.000000</td>\n",
              "      <td>1.000000</td>\n",
              "      <td>1.000000</td>\n",
              "      <td>1.000000</td>\n",
              "    </tr>\n",
              "  </tbody>\n",
              "</table>\n",
              "</div>"
            ],
            "text/plain": [
              "              Age      Gender  ...  Albumin_and_Globulin_Ratio     Outcome\n",
              "count  583.000000  583.000000  ...                  579.000000  583.000000\n",
              "mean    44.746141    0.756432  ...                    0.258826    0.286449\n",
              "std     16.189833    0.429603  ...                    0.127837    0.452490\n",
              "min      4.000000    0.000000  ...                    0.000000    0.000000\n",
              "25%     33.000000    1.000000  ...                    0.160000    0.000000\n",
              "50%     45.000000    1.000000  ...                    0.252000    0.000000\n",
              "75%     58.000000    1.000000  ...                    0.320000    1.000000\n",
              "max     90.000000    1.000000  ...                    1.000000    1.000000\n",
              "\n",
              "[8 rows x 11 columns]"
            ]
          },
          "metadata": {},
          "execution_count": 14
        }
      ]
    },
    {
      "cell_type": "code",
      "metadata": {
        "id": "sfZ9OnG5xW2Y",
        "colab": {
          "base_uri": "https://localhost:8080/"
        },
        "outputId": "e3b39cab-9b11-4c0f-e629-c66e269b9a57"
      },
      "source": [
        "data.Age.value_counts()[:30]"
      ],
      "execution_count": null,
      "outputs": [
        {
          "output_type": "execute_result",
          "data": {
            "text/plain": [
              "60    34\n",
              "45    25\n",
              "50    23\n",
              "42    21\n",
              "38    21\n",
              "32    20\n",
              "48    20\n",
              "55    18\n",
              "65    17\n",
              "40    17\n",
              "46    16\n",
              "33    15\n",
              "58    14\n",
              "75    14\n",
              "26    14\n",
              "66    12\n",
              "35    12\n",
              "18    11\n",
              "49    11\n",
              "36    11\n",
              "51    10\n",
              "30    10\n",
              "70     9\n",
              "62     9\n",
              "37     9\n",
              "22     9\n",
              "31     8\n",
              "54     8\n",
              "34     8\n",
              "28     8\n",
              "Name: Age, dtype: int64"
            ]
          },
          "metadata": {},
          "execution_count": 15
        }
      ]
    },
    {
      "cell_type": "code",
      "metadata": {
        "id": "jk5Ug87XxW2Y",
        "colab": {
          "base_uri": "https://localhost:8080/"
        },
        "outputId": "64ea0af4-9e08-4a8c-e1cc-f2d983b49d27"
      },
      "source": [
        "data.Outcome.value_counts()"
      ],
      "execution_count": null,
      "outputs": [
        {
          "output_type": "execute_result",
          "data": {
            "text/plain": [
              "0.0    416\n",
              "1.0    167\n",
              "Name: Outcome, dtype: int64"
            ]
          },
          "metadata": {},
          "execution_count": 16
        }
      ]
    },
    {
      "cell_type": "code",
      "metadata": {
        "id": "vBhmwdGGxW2Y",
        "colab": {
          "base_uri": "https://localhost:8080/"
        },
        "outputId": "edfd6515-7fd2-4265-dd49-8d3ed07e2d2d"
      },
      "source": [
        "data.Gender.value_counts()"
      ],
      "execution_count": null,
      "outputs": [
        {
          "output_type": "execute_result",
          "data": {
            "text/plain": [
              "1.0    441\n",
              "0.0    142\n",
              "Name: Gender, dtype: int64"
            ]
          },
          "metadata": {},
          "execution_count": 17
        }
      ]
    },
    {
      "cell_type": "code",
      "metadata": {
        "id": "VL2XRBm4xW2Y",
        "colab": {
          "base_uri": "https://localhost:8080/"
        },
        "outputId": "be914339-6f85-4c8d-88e4-ca55f8883133"
      },
      "source": [
        "NoDisease = len(data[data.Outcome == 0])\n",
        "HaveDisease = len(data[data.Outcome == 1])\n",
        "print(\"Percentage of patients dont have liver disorder: {:.2f}%\".format((NoDisease/(len(data.Outcome)))*100))\n",
        "print(\"Percentage of patients have liver disorder: {:.2f}%\".format((HaveDisease/(len(data.Outcome)))*100))"
      ],
      "execution_count": null,
      "outputs": [
        {
          "output_type": "stream",
          "name": "stdout",
          "text": [
            "Percentage of patients dont have liver disorder: 71.36%\n",
            "Percentage of patients have liver disorder: 28.64%\n"
          ]
        }
      ]
    },
    {
      "cell_type": "code",
      "metadata": {
        "id": "5LKmKn7IxW2Y",
        "colab": {
          "base_uri": "https://localhost:8080/"
        },
        "outputId": "611caa27-95a8-432e-e3ab-e3677a0bfaa8"
      },
      "source": [
        "countFemale= len(data[data.Gender == 0])\n",
        "countMale = len(data[data.Gender == 1])\n",
        "print(\"% of Female Patients: {:.2f}%\".format((countFemale/(len(data.Gender))*100)))\n",
        "print(\"% of male Patients: {:.2f}%\".format((countMale/(len(data.Gender))*100)))\n"
      ],
      "execution_count": null,
      "outputs": [
        {
          "output_type": "stream",
          "name": "stdout",
          "text": [
            "% of Female Patients: 24.36%\n",
            "% of male Patients: 75.64%\n"
          ]
        }
      ]
    },
    {
      "cell_type": "code",
      "metadata": {
        "id": "bQy4olG1xW2Y",
        "colab": {
          "base_uri": "https://localhost:8080/"
        },
        "outputId": "7a3b62d1-6e64-4503-cebb-fa0a49f8300c"
      },
      "source": [
        "young_ages = data[(data.Age>=29)&(data.Age<40)]\n",
        "middle_ages = data[(data.Age>=40)&(data.Age<55)]\n",
        "elderly_ages = data[(data.Age>=55)]\n",
        "print(\"young age:\", len(young_ages))\n",
        "print(\"middle age:\", len(middle_ages))\n",
        "print(\"elderly age:\", len(elderly_ages))"
      ],
      "execution_count": null,
      "outputs": [
        {
          "output_type": "stream",
          "name": "stdout",
          "text": [
            "young age: 127\n",
            "middle age: 182\n",
            "elderly age: 176\n"
          ]
        }
      ]
    },
    {
      "cell_type": "markdown",
      "metadata": {
        "id": "93S5dmmtxW2Y"
      },
      "source": [
        "            C)DATA VISUALISATION"
      ]
    },
    {
      "cell_type": "code",
      "metadata": {
        "id": "yFxvfe2QxW2Y",
        "colab": {
          "base_uri": "https://localhost:8080/",
          "height": 728
        },
        "outputId": "94344d95-9235-494d-f441-d3ad7880dec8"
      },
      "source": [
        "plt.figure(figsize=(10,10))\n",
        "sns.heatmap(data.corr(), annot=True, fmt='.1f')\n",
        "plt.show()"
      ],
      "execution_count": null,
      "outputs": [
        {
          "output_type": "display_data",
          "data": {
            "image/png": "[encoded data removed]",
            "text/plain": [
              "<Figure size 720x720 with 2 Axes>"
            ]
          },
          "metadata": {
            "needs_background": "light"
          }
        }
      ]
    },
    {
      "cell_type": "code",
      "metadata": {
        "id": "6oJs7e9XxW2Y",
        "colab": {
          "base_uri": "https://localhost:8080/",
          "height": 312
        },
        "outputId": "b2d98bcf-56f7-4656-99ab-0a486c83e0ad"
      },
      "source": [
        "sns.barplot(x= data.Age.value_counts()[:20].index, y= data.Age.value_counts()[:20].values  )\n",
        "plt.xlabel('Age')\n",
        "plt.ylabel(\"Age counter\")\n",
        "plt.title(\"Age Analysis\")\n",
        "plt.show"
      ],
      "execution_count": null,
      "outputs": [
        {
          "output_type": "execute_result",
          "data": {
            "text/plain": [
              "<function matplotlib.pyplot.show>"
            ]
          },
          "metadata": {},
          "execution_count": 22
        },
        {
          "output_type": "display_data",
          "data": {
            "image/png": "[encoded data removed]",
            "text/plain": [
              "<Figure size 432x288 with 1 Axes>"
            ]
          },
          "metadata": {
            "needs_background": "light"
          }
        }
      ]
    },
    {
      "cell_type": "code",
      "metadata": {
        "id": "oUxpwrW0xW2Y",
        "colab": {
          "base_uri": "https://localhost:8080/",
          "height": 349
        },
        "outputId": "30bf08b7-5826-4564-881a-daa45975d319"
      },
      "source": [
        "sns.countplot(data.Outcome)\n",
        "plt.xlabel('Target')\n",
        "plt.ylabel('Count')\n",
        "plt.title('Target 1 & 0')\n",
        "plt.show()"
      ],
      "execution_count": null,
      "outputs": [
        {
          "output_type": "stream",
          "name": "stderr",
          "text": [
            "/usr/local/lib/python3.7/dist-packages/seaborn/_decorators.py:43: FutureWarning: Pass the following variable as a keyword arg: x. From version 0.12, the only valid positional argument will be `data`, and passing other arguments without an explicit keyword will result in an error or misinterpretation.\n",
            "  FutureWarning\n"
          ]
        },
        {
          "output_type": "display_data",
          "data": {
            "image/png": "[encoded data removed]",
            "text/plain": [
              "<Figure size 432x288 with 1 Axes>"
            ]
          },
          "metadata": {
            "needs_background": "light"
          }
        }
      ]
    },
    {
      "cell_type": "code",
      "metadata": {
        "id": "VH6HA3JLxW2Y",
        "colab": {
          "base_uri": "https://localhost:8080/",
          "height": 349
        },
        "outputId": "19bc1013-b6ef-48ee-d77f-1c825fc5443b"
      },
      "source": [
        "sns.countplot(data.Gender)\n",
        "plt.xlabel('F AMD M')\n",
        "plt.ylabel('Count')\n",
        "plt.title('SEX ANALYSIS')\n",
        "plt.show()"
      ],
      "execution_count": null,
      "outputs": [
        {
          "output_type": "stream",
          "name": "stderr",
          "text": [
            "/usr/local/lib/python3.7/dist-packages/seaborn/_decorators.py:43: FutureWarning: Pass the following variable as a keyword arg: x. From version 0.12, the only valid positional argument will be `data`, and passing other arguments without an explicit keyword will result in an error or misinterpretation.\n",
            "  FutureWarning\n"
          ]
        },
        {
          "output_type": "display_data",
          "data": {
            "image/png": "[encoded data removed]",
            "text/plain": [
              "<Figure size 432x288 with 1 Axes>"
            ]
          },
          "metadata": {
            "needs_background": "light"
          }
        }
      ]
    },
    {
      "cell_type": "code",
      "metadata": {
        "id": "DAoZK5OKxW2Y",
        "colab": {
          "base_uri": "https://localhost:8080/",
          "height": 466
        },
        "outputId": "3f98242e-1c9a-4aaf-ef35-cbf53b2d4c0d"
      },
      "source": [
        "colors = ['red','blue', 'green']\n",
        "explode= [1,1,1]\n",
        "plt.figure(figsize= (8,8))\n",
        "plt.pie([len(young_ages), len(middle_ages), len(elderly_ages)], labels=['young ages', 'middle ages', 'elderly ages'])\n",
        "plt.show()"
      ],
      "execution_count": null,
      "outputs": [
        {
          "output_type": "display_data",
          "data": {
            "image/png": "[encoded data removed]",
            "text/plain": [
              "<Figure size 576x576 with 1 Axes>"
            ]
          },
          "metadata": {}
        }
      ]
    },
    {
      "cell_type": "code",
      "metadata": {
        "id": "TE6JUidjxW2Y",
        "colab": {
          "base_uri": "https://localhost:8080/",
          "height": 585
        },
        "outputId": "6cc54fc1-a6bd-4771-9051-1020b9c69f6a"
      },
      "source": [
        "data.hist(figsize=(10,8))\n",
        "plt.tight_layout()\n",
        "plt.show()"
      ],
      "execution_count": null,
      "outputs": [
        {
          "output_type": "display_data",
          "data": {
            "image/png": "[encoded data removed]",
            "text/plain": [
              "<Figure size 720x576 with 12 Axes>"
            ]
          },
          "metadata": {
            "needs_background": "light"
          }
        }
      ]
    },
    {
      "cell_type": "code",
      "metadata": {
        "id": "3CURwXSMxW2Y",
        "colab": {
          "base_uri": "https://localhost:8080/",
          "height": 289
        },
        "outputId": "cd164f30-81b5-488c-853a-282d06a89275"
      },
      "source": [
        "import matplotlib.pyplot as plt \n",
        "import pandas \n",
        "from pandas.plotting import scatter_matrix \n",
        "scatter_matrix(data[['Gender','Total_Bilirubin']]) \n",
        "plt.show() "
      ],
      "execution_count": null,
      "outputs": [
        {
          "output_type": "display_data",
          "data": {
            "image/png": "[encoded data removed]",
            "text/plain": [
              "<Figure size 432x288 with 4 Axes>"
            ]
          },
          "metadata": {
            "needs_background": "light"
          }
        }
      ]
    },
    {
      "cell_type": "code",
      "metadata": {
        "id": "yS_jmaxWxW2Y"
      },
      "source": [
        "df = pd.DataFrame(data)\n",
        "  \n",
        "# saving the dataframe\n",
        "df.to_csv(r'indian_liver_patient_new.csv', index=False)"
      ],
      "execution_count": null,
      "outputs": []
    },
    {
      "cell_type": "markdown",
      "metadata": {
        "id": "6dt8hLCzxW2Y"
      },
      "source": [
        "            D)DATA INTERPRETATION"
      ]
    },
    {
      "cell_type": "markdown",
      "metadata": {
        "id": "zu06S9bxxW2Y"
      },
      "source": [
        "A)The indian_liver_patient_record dataset from kaggle is a clean dataset with no missing values as such.So there was no need of modification."
      ]
    },
    {
      "cell_type": "markdown",
      "metadata": {
        "id": "znquC-KkxW2Y"
      },
      "source": [
        "B)The dataset contains 582 samples which helps to predict whether a person is having liver disease or not."
      ]
    },
    {
      "cell_type": "markdown",
      "metadata": {
        "id": "ZVevHqqoxW2Y"
      },
      "source": [
        "C)The features used here are:Age,Gender= (1 = male; 2 = female),Total_Bilirubin,Direct_Bilirubin,Alkaline_Phosphotase,Alamine_Aminotransferase,Aspartate_Aminotransferase,Total_Protiens,Albumin,Albumin_and_Globulin_Ratio,Outcome(the outcome variable).\n"
      ]
    },
    {
      "cell_type": "markdown",
      "metadata": {
        "id": "RH0cycMFxW2Y"
      },
      "source": [
        "D)There are 9 features which helps us find the 10th outcome whether the patient is suffering from liver disorder or not.\n",
        "All  the features are integers except one is float(As a whole numerical data)."
      ]
    },
    {
      "cell_type": "markdown",
      "metadata": {
        "id": "gywfgX26xW2Y"
      },
      "source": [
        "E)The age group above 40 is mainly affected according to analysing the data.The people affected by liver disorder are less frequent \n",
        "than detected negative.The female are less affected than male."
      ]
    },
    {
      "cell_type": "code",
      "metadata": {
        "id": "QhwjWE85qHjS"
      },
      "source": [
        "import numpy as np\n",
        "import pandas as pd\n",
        "import seaborn as sns\n",
        "import matplotlib.pyplot as plt"
      ],
      "execution_count": null,
      "outputs": []
    },
    {
      "cell_type": "code",
      "metadata": {
        "id": "xTykPvh3qP5J"
      },
      "source": [
        "data=pd.read_csv(\"indian_liver_patient_new.csv\")\n",
        "df = pd.DataFrame(data)"
      ],
      "execution_count": null,
      "outputs": []
    },
    {
      "cell_type": "code",
      "metadata": {
        "colab": {
          "base_uri": "https://localhost:8080/"
        },
        "id": "_y5TXGv1qT5g",
        "outputId": "9da59b85-672f-4ada-b952-e79ea41287c7"
      },
      "source": [
        "df.Albumin_and_Globulin_Ratio.fillna(df['Albumin_and_Globulin_Ratio'].median(), inplace=True)\n",
        "print(df.isnull().sum())"
      ],
      "execution_count": null,
      "outputs": [
        {
          "output_type": "stream",
          "name": "stdout",
          "text": [
            "Age                           0\n",
            "Gender                        0\n",
            "Total_Bilirubin               0\n",
            "Direct_Bilirubin              0\n",
            "Alkaline_Phosphotase          0\n",
            "Alamine_Aminotransferase      0\n",
            "Aspartate_Aminotransferase    0\n",
            "Total_Protiens                0\n",
            "Albumin                       0\n",
            "Albumin_and_Globulin_Ratio    0\n",
            "Outcome                       0\n",
            "dtype: int64\n"
          ]
        }
      ]
    },
    {
      "cell_type": "code",
      "metadata": {
        "id": "aQfdN5CSqYmI"
      },
      "source": [
        "from sklearn.preprocessing import StandardScaler\n",
        "sc_X = StandardScaler()\n",
        "X =  pd.DataFrame(sc_X.fit_transform(df.drop([\"Outcome\"],axis = 1),),\n",
        "        columns=['Age', 'Gender_Encoded','Total_Bilirubin', 'Direct_Bilirubin', 'Alkaline_Phosphotase',\n",
        "        'Alamine_Aminotransferase', 'Aspartate_Aminotransferase', 'Total_Protiens', \n",
        "        'Albumin', 'Albumin_and_Globulin_Ratio'])"
      ],
      "execution_count": null,
      "outputs": []
    },
    {
      "cell_type": "markdown",
      "metadata": {
        "id": "90v_P6LAxW2Y"
      },
      "source": [
        "              E) Data Splitting "
      ]
    },
    {
      "cell_type": "code",
      "metadata": {
        "id": "AEefkN3ZxW2Y"
      },
      "source": [
        "import numpy as np\n",
        "from sklearn.model_selection import train_test_split"
      ],
      "execution_count": null,
      "outputs": []
    },
    {
      "cell_type": "code",
      "metadata": {
        "id": "b7lIoEtDwxvC"
      },
      "source": [
        "y = df.Outcome\n",
        "X_train,X_test,y_train,y_test = train_test_split(X,y,test_size=0.3,random_state=42, stratify=y)"
      ],
      "execution_count": null,
      "outputs": []
    },
    {
      "cell_type": "code",
      "metadata": {
        "id": "WrBRttmZxW2Y",
        "colab": {
          "base_uri": "https://localhost:8080/"
        },
        "outputId": "5d0c183c-89a7-49db-edd1-3402706aea39"
      },
      "source": [
        "len(X_train), len(X_test)"
      ],
      "execution_count": null,
      "outputs": [
        {
          "output_type": "execute_result",
          "data": {
            "text/plain": [
              "(408, 175)"
            ]
          },
          "metadata": {},
          "execution_count": 36
        }
      ]
    },
    {
      "cell_type": "markdown",
      "metadata": {
        "id": "5xJWco96qpRR"
      },
      "source": [
        "KNN"
      ]
    },
    {
      "cell_type": "code",
      "metadata": {
        "id": "6c4sasMjxW2Y"
      },
      "source": [
        "from sklearn.neighbors import KNeighborsClassifier\n",
        "test_scores = []\n",
        "train_scores = []\n",
        "\n",
        "for i in range(1,15):\n",
        "\n",
        "    knn = KNeighborsClassifier(i)\n",
        "    knn.fit(X_train,y_train)\n",
        "    \n",
        "    train_scores.append(knn.score(X_train,y_train))\n",
        "    test_scores.append(knn.score(X_test,y_test))"
      ],
      "execution_count": null,
      "outputs": []
    },
    {
      "cell_type": "code",
      "metadata": {
        "id": "j3P6kkelxW2Y",
        "colab": {
          "base_uri": "https://localhost:8080/"
        },
        "outputId": "0da9d152-6bdc-46e0-e97d-752b6558cb65"
      },
      "source": [
        "max_train_score = max(train_scores)\n",
        "train_scores_ind = [i for i, v in enumerate(train_scores) if v == max_train_score]\n",
        "print('Max train score {} % and k = {}'.format(max_train_score*100,list(map(lambda x: x+1, train_scores_ind))))"
      ],
      "execution_count": null,
      "outputs": [
        {
          "output_type": "stream",
          "name": "stdout",
          "text": [
            "Max train score 100.0 % and k = [1]\n"
          ]
        }
      ]
    },
    {
      "cell_type": "code",
      "metadata": {
        "id": "uBjkXjepxW2Y",
        "colab": {
          "base_uri": "https://localhost:8080/"
        },
        "outputId": "969d8f4f-4bd5-41e1-cad0-7444a10479e4"
      },
      "source": [
        "max_test_score = max(test_scores)\n",
        "test_scores_ind = [i for i, v in enumerate(test_scores) if v == max_test_score]\n",
        "print('Max test score {} % and k = {}'.format(max_test_score*100,list(map(lambda x: x+1, test_scores_ind))))"
      ],
      "execution_count": null,
      "outputs": [
        {
          "output_type": "stream",
          "name": "stdout",
          "text": [
            "Max test score 69.14285714285714 % and k = [10, 12]\n"
          ]
        }
      ]
    },
    {
      "cell_type": "code",
      "metadata": {
        "colab": {
          "base_uri": "https://localhost:8080/"
        },
        "id": "nFJYPoXTq8II",
        "outputId": "7076ddb1-9767-473a-b5c1-09d7bcc9ca50"
      },
      "source": [
        "knn = KNeighborsClassifier(12)\n",
        "\n",
        "knn.fit(X_train,y_train)\n",
        "knn.score(X_test,y_test)"
      ],
      "execution_count": null,
      "outputs": [
        {
          "output_type": "execute_result",
          "data": {
            "text/plain": [
              "0.6914285714285714"
            ]
          },
          "metadata": {},
          "execution_count": 40
        }
      ]
    },
    {
      "cell_type": "markdown",
      "metadata": {
        "id": "vS5OkOHArCi2"
      },
      "source": [
        "Result visualisation"
      ]
    },
    {
      "cell_type": "code",
      "metadata": {
        "colab": {
          "base_uri": "https://localhost:8080/",
          "height": 407
        },
        "id": "fNMkJYXPrEwe",
        "outputId": "40ad3f17-c5e8-4978-c23b-1f2e8676b242"
      },
      "source": [
        "plt.figure(figsize=(12,5))\n",
        "p = sns.lineplot(range(1,15),train_scores,marker='*',label='Train Score')\n",
        "p = sns.lineplot(range(1,15),test_scores,marker='o',label='Test Score')"
      ],
      "execution_count": null,
      "outputs": [
        {
          "output_type": "stream",
          "name": "stderr",
          "text": [
            "/usr/local/lib/python3.7/dist-packages/seaborn/_decorators.py:43: FutureWarning: Pass the following variables as keyword args: x, y. From version 0.12, the only valid positional argument will be `data`, and passing other arguments without an explicit keyword will result in an error or misinterpretation.\n",
            "  FutureWarning\n",
            "/usr/local/lib/python3.7/dist-packages/seaborn/_decorators.py:43: FutureWarning: Pass the following variables as keyword args: x, y. From version 0.12, the only valid positional argument will be `data`, and passing other arguments without an explicit keyword will result in an error or misinterpretation.\n",
            "  FutureWarning\n"
          ]
        },
        {
          "output_type": "display_data",
          "data": {
            "image/png": "[encoded data removed]",
            "text/plain": [
              "<Figure size 864x360 with 1 Axes>"
            ]
          },
          "metadata": {
            "needs_background": "light"
          }
        }
      ]
    },
    {
      "cell_type": "markdown",
      "metadata": {
        "id": "OBh3Ju1zrO9m"
      },
      "source": [
        "  Model Performance Analysis\n"
      ]
    },
    {
      "cell_type": "code",
      "metadata": {
        "colab": {
          "base_uri": "https://localhost:8080/",
          "height": 172
        },
        "id": "Hu_BI_QMrRg-",
        "outputId": "0d68e941-505a-40a9-ed60-d6b076f1b5e2"
      },
      "source": [
        "from sklearn.metrics import confusion_matrix\n",
        "y_pred = knn.predict(X_test)\n",
        "confusion_matrix(y_test,y_pred)\n",
        "pd.crosstab(y_test, y_pred, rownames=['True'], colnames=['Predicted'], margins=True)"
      ],
      "execution_count": null,
      "outputs": [
        {
          "output_type": "execute_result",
          "data": {
            "text/html": [
              "<div>\n",
              "<style scoped>\n",
              "    .dataframe tbody tr th:only-of-type {\n",
              "        vertical-align: middle;\n",
              "    }\n",
              "\n",
              "    .dataframe tbody tr th {\n",
              "        vertical-align: top;\n",
              "    }\n",
              "\n",
              "    .dataframe thead th {\n",
              "        text-align: right;\n",
              "    }\n",
              "</style>\n",
              "<table border=\"1\" class=\"dataframe\">\n",
              "  <thead>\n",
              "    <tr style=\"text-align: right;\">\n",
              "      <th>Predicted</th>\n",
              "      <th>0.0</th>\n",
              "      <th>1.0</th>\n",
              "      <th>All</th>\n",
              "    </tr>\n",
              "    <tr>\n",
              "      <th>True</th>\n",
              "      <th></th>\n",
              "      <th></th>\n",
              "      <th></th>\n",
              "    </tr>\n",
              "  </thead>\n",
              "  <tbody>\n",
              "    <tr>\n",
              "      <th>0.0</th>\n",
              "      <td>115</td>\n",
              "      <td>10</td>\n",
              "      <td>125</td>\n",
              "    </tr>\n",
              "    <tr>\n",
              "      <th>1.0</th>\n",
              "      <td>44</td>\n",
              "      <td>6</td>\n",
              "      <td>50</td>\n",
              "    </tr>\n",
              "    <tr>\n",
              "      <th>All</th>\n",
              "      <td>159</td>\n",
              "      <td>16</td>\n",
              "      <td>175</td>\n",
              "    </tr>\n",
              "  </tbody>\n",
              "</table>\n",
              "</div>"
            ],
            "text/plain": [
              "Predicted  0.0  1.0  All\n",
              "True                    \n",
              "0.0        115   10  125\n",
              "1.0         44    6   50\n",
              "All        159   16  175"
            ]
          },
          "metadata": {},
          "execution_count": 42
        }
      ]
    },
    {
      "cell_type": "code",
      "metadata": {
        "colab": {
          "base_uri": "https://localhost:8080/",
          "height": 312
        },
        "id": "psigGzQqsorZ",
        "outputId": "6b09423b-787d-4eff-d1ec-5b6911e69a69"
      },
      "source": [
        "y_pred = knn.predict(X_test)\n",
        "from sklearn import metrics\n",
        "cnf_matrix = metrics.confusion_matrix(y_test, y_pred)\n",
        "p = sns.heatmap(pd.DataFrame(cnf_matrix), annot=True, cmap=\"YlGnBu\" ,fmt='g')\n",
        "plt.title('Confusion matrix', y=1.1)\n",
        "plt.ylabel('Actual label')\n",
        "plt.xlabel('Predicted label')"
      ],
      "execution_count": null,
      "outputs": [
        {
          "output_type": "execute_result",
          "data": {
            "text/plain": [
              "Text(0.5, 15.0, 'Predicted label')"
            ]
          },
          "metadata": {},
          "execution_count": 43
        },
        {
          "output_type": "display_data",
          "data": {
            "image/png": "[encoded data removed]",
            "text/plain": [
              "<Figure size 432x288 with 2 Axes>"
            ]
          },
          "metadata": {
            "needs_background": "light"
          }
        }
      ]
    },
    {
      "cell_type": "code",
      "metadata": {
        "colab": {
          "base_uri": "https://localhost:8080/"
        },
        "id": "PmjxaUxsssmH",
        "outputId": "de683ac2-9090-4be5-8285-7e536ebfdb04"
      },
      "source": [
        "from sklearn.metrics import classification_report\n",
        "print(classification_report(y_test,y_pred))\n",
        "print(\"Accuracy score - \", metrics.accuracy_score(y_test,y_pred))"
      ],
      "execution_count": null,
      "outputs": [
        {
          "output_type": "stream",
          "name": "stdout",
          "text": [
            "              precision    recall  f1-score   support\n",
            "\n",
            "         0.0       0.72      0.92      0.81       125\n",
            "         1.0       0.38      0.12      0.18        50\n",
            "\n",
            "    accuracy                           0.69       175\n",
            "   macro avg       0.55      0.52      0.50       175\n",
            "weighted avg       0.62      0.69      0.63       175\n",
            "\n",
            "Accuracy score -  0.6914285714285714\n"
          ]
        }
      ]
    },
    {
      "cell_type": "markdown",
      "metadata": {
        "id": "WsMTCS6aszI3"
      },
      "source": [
        "  K-Fold cross validation\n"
      ]
    },
    {
      "cell_type": "code",
      "metadata": {
        "colab": {
          "base_uri": "https://localhost:8080/"
        },
        "id": "rSWqo4tAs0r3",
        "outputId": "e38de0cf-8053-45dd-a132-97dac2327daa"
      },
      "source": [
        "from sklearn.model_selection import cross_val_score\n",
        "import numpy as np\n",
        "cv_scores = cross_val_score(knn, X, y, cv=10)\n",
        "print(cv_scores)\n",
        "print('cv_scores mean:{}'.format(np.mean(cv_scores)))"
      ],
      "execution_count": null,
      "outputs": [
        {
          "output_type": "stream",
          "name": "stdout",
          "text": [
            "[0.712 0.644 0.712 0.776 0.724 0.672 0.655 0.621 0.672 0.69 ]\n",
            "cv_scores mean:0.6878141437755699\n"
          ]
        }
      ]
    },
    {
      "cell_type": "markdown",
      "metadata": {
        "id": "VzJu6P3ntAN4"
      },
      "source": [
        "  Logistic Regression\n"
      ]
    },
    {
      "cell_type": "code",
      "metadata": {
        "id": "wWygg_5ktA6o"
      },
      "source": [
        "from sklearn.linear_model import LogisticRegression\n",
        "lr = LogisticRegression()\n",
        "lr.fit(X_train,y_train)\n",
        "y_pred = lr.predict(X_test)"
      ],
      "execution_count": null,
      "outputs": []
    },
    {
      "cell_type": "code",
      "metadata": {
        "colab": {
          "base_uri": "https://localhost:8080/",
          "height": 312
        },
        "id": "v5RCaLGAtFGB",
        "outputId": "bb905a62-6b75-4fe1-9e78-5b2ec37c6f1e"
      },
      "source": [
        "from sklearn import metrics\n",
        "cnf_matrix = metrics.confusion_matrix(y_test, y_pred)\n",
        "p = sns.heatmap(pd.DataFrame(cnf_matrix), annot=True, cmap=\"YlGnBu\" ,fmt='g')\n",
        "plt.title('Confusion matrix', y=1.1)\n",
        "plt.ylabel('Actual label')\n",
        "plt.xlabel('Predicted label')"
      ],
      "execution_count": null,
      "outputs": [
        {
          "output_type": "execute_result",
          "data": {
            "text/plain": [
              "Text(0.5, 15.0, 'Predicted label')"
            ]
          },
          "metadata": {},
          "execution_count": 47
        },
        {
          "output_type": "display_data",
          "data": {
            "image/png": "[encoded data removed]",
            "text/plain": [
              "<Figure size 432x288 with 2 Axes>"
            ]
          },
          "metadata": {
            "needs_background": "light"
          }
        }
      ]
    },
    {
      "cell_type": "code",
      "metadata": {
        "colab": {
          "base_uri": "https://localhost:8080/"
        },
        "id": "Ei1iWNkFtIPJ",
        "outputId": "433b5d21-65ec-4758-a314-6894dbd61f8b"
      },
      "source": [
        "from sklearn.metrics import classification_report\n",
        "print(classification_report(y_test,y_pred))\n",
        "print(\"Accuracy score - \", metrics.accuracy_score(y_test,y_pred))"
      ],
      "execution_count": null,
      "outputs": [
        {
          "output_type": "stream",
          "name": "stdout",
          "text": [
            "              precision    recall  f1-score   support\n",
            "\n",
            "         0.0       0.74      0.90      0.81       125\n",
            "         1.0       0.46      0.22      0.30        50\n",
            "\n",
            "    accuracy                           0.70       175\n",
            "   macro avg       0.60      0.56      0.55       175\n",
            "weighted avg       0.66      0.70      0.66       175\n",
            "\n",
            "Accuracy score -  0.7028571428571428\n"
          ]
        }
      ]
    },
    {
      "cell_type": "code",
      "metadata": {
        "colab": {
          "base_uri": "https://localhost:8080/"
        },
        "id": "Sf_ydkDvtNPS",
        "outputId": "1d1c28b1-470d-40ae-b86e-a2272c355f58"
      },
      "source": [
        "from sklearn.metrics import roc_auc_score\n",
        "test_roc_auc = roc_auc_score(y_test, y_pred)\n",
        "\n",
        "# Print test_roc_auc\n",
        "print('Test set ROC AUC score: {:.3f}'.format(test_roc_auc))"
      ],
      "execution_count": null,
      "outputs": [
        {
          "output_type": "stream",
          "name": "stdout",
          "text": [
            "Test set ROC AUC score: 0.558\n"
          ]
        }
      ]
    },
    {
      "cell_type": "markdown",
      "metadata": {
        "id": "lNTMjBB0tP0q"
      },
      "source": [
        "  K-Fold Crossvalidation\n"
      ]
    },
    {
      "cell_type": "code",
      "metadata": {
        "colab": {
          "base_uri": "https://localhost:8080/"
        },
        "id": "NGNohJKhtQcR",
        "outputId": "edf106c6-e78e-4428-df96-85c20f4848fd"
      },
      "source": [
        "from sklearn.model_selection import cross_val_score\n",
        "import numpy as np\n",
        "cv_scores = cross_val_score(lr, X, y, cv=10)\n",
        "print(cv_scores)\n",
        "print('cv_scores mean:{}'.format(np.mean(cv_scores)))"
      ],
      "execution_count": null,
      "outputs": [
        {
          "output_type": "stream",
          "name": "stdout",
          "text": [
            "[0.712 0.695 0.729 0.741 0.724 0.741 0.707 0.707 0.707 0.759]\n",
            "cv_scores mean:0.7221800116890708\n"
          ]
        }
      ]
    },
    {
      "cell_type": "markdown",
      "metadata": {
        "id": "LWp-c_oTtXVw"
      },
      "source": [
        "  Decision Tree\n"
      ]
    },
    {
      "cell_type": "code",
      "metadata": {
        "id": "0hqnaW_ftYGj"
      },
      "source": [
        "from sklearn.tree import DecisionTreeClassifier\n",
        "dtree = DecisionTreeClassifier(max_depth = None , random_state = 1 , max_features = None, min_samples_leaf =20)\n",
        "dtree.fit(X_train,y_train)\n",
        "y_pred_dtree = dtree.predict(X_test)"
      ],
      "execution_count": null,
      "outputs": []
    },
    {
      "cell_type": "code",
      "metadata": {
        "colab": {
          "base_uri": "https://localhost:8080/"
        },
        "id": "9jUhac-StcIa",
        "outputId": "dc1cedd8-9c38-4c13-c227-c00265a5febe"
      },
      "source": [
        "score = dtree.score(X_test, y_test)\n",
        "print(\"Score of the model is - \",score)\n",
        "print(\"Report card of this model - \")\n",
        "print(metrics.classification_report(y_test, y_pred_dtree, digits=3))\n",
        "print(\"Accuracy score - \", metrics.accuracy_score(y_test,y_pred_dtree))"
      ],
      "execution_count": null,
      "outputs": [
        {
          "output_type": "stream",
          "name": "stdout",
          "text": [
            "Score of the model is -  0.64\n",
            "Report card of this model - \n",
            "              precision    recall  f1-score   support\n",
            "\n",
            "         0.0      0.738     0.768     0.753       125\n",
            "         1.0      0.356     0.320     0.337        50\n",
            "\n",
            "    accuracy                          0.640       175\n",
            "   macro avg      0.547     0.544     0.545       175\n",
            "weighted avg      0.629     0.640     0.634       175\n",
            "\n",
            "Accuracy score -  0.64\n"
          ]
        }
      ]
    },
    {
      "cell_type": "code",
      "metadata": {
        "colab": {
          "base_uri": "https://localhost:8080/",
          "height": 312
        },
        "id": "RWT3JhhHtfZD",
        "outputId": "17d18dfe-ecc6-49bd-9a5e-514f72bdb936"
      },
      "source": [
        "from sklearn import metrics\n",
        "cnf_matrix = metrics.confusion_matrix(y_test, y_pred)\n",
        "p = sns.heatmap(pd.DataFrame(cnf_matrix), annot=True, cmap=\"YlGnBu\" ,fmt='g')\n",
        "plt.title('Confusion matrix', y=1.1)\n",
        "plt.ylabel('Actual label')\n",
        "plt.xlabel('Predicted label')"
      ],
      "execution_count": null,
      "outputs": [
        {
          "output_type": "execute_result",
          "data": {
            "text/plain": [
              "Text(0.5, 15.0, 'Predicted label')"
            ]
          },
          "metadata": {},
          "execution_count": 54
        },
        {
          "output_type": "display_data",
          "data": {
            "image/png": "[encoded data removed]",
            "text/plain": [
              "<Figure size 432x288 with 2 Axes>"
            ]
          },
          "metadata": {
            "needs_background": "light"
          }
        }
      ]
    },
    {
      "cell_type": "markdown",
      "metadata": {
        "id": "t_2MQE27tiVr"
      },
      "source": [
        "  K-Fold Validation\n"
      ]
    },
    {
      "cell_type": "code",
      "metadata": {
        "colab": {
          "base_uri": "https://localhost:8080/"
        },
        "id": "XX1d-1E2ti1b",
        "outputId": "f540cff8-ccbc-4866-e620-74d5a1cbbced"
      },
      "source": [
        "from sklearn.model_selection import cross_val_score\n",
        "import numpy as np\n",
        "cv_scores = cross_val_score(dtree, X, y, cv=10)\n",
        "print(cv_scores)\n",
        "print('cv_scores mean:{}'.format(np.mean(cv_scores)))"
      ],
      "execution_count": null,
      "outputs": [
        {
          "output_type": "stream",
          "name": "stdout",
          "text": [
            "[0.712 0.627 0.746 0.672 0.707 0.603 0.69  0.638 0.655 0.707]\n",
            "cv_scores mean:0.6757159555815313\n"
          ]
        }
      ]
    },
    {
      "cell_type": "markdown",
      "metadata": {
        "id": "osjVPSDqtqLc"
      },
      "source": [
        "  Most accuracy is for Logistic Regression\n"
      ]
    },
    {
      "cell_type": "markdown",
      "metadata": {
        "id": "VpX91y4dtuJs"
      },
      "source": [
        "  Logistic Regression Implementation\n"
      ]
    },
    {
      "cell_type": "code",
      "metadata": {
        "id": "10QKiw02tuz1"
      },
      "source": [
        "class LogitRegression() :\n",
        "    def __init__( self, learning_rate, iterations ) :        \n",
        "        self.learning_rate = learning_rate        \n",
        "        self.iterations = iterations\n",
        "          \n",
        "    def fit( self, X, Y ) :        \n",
        "        self.m, self.n = X.shape        \n",
        "        self.W = np.zeros( self.n )        \n",
        "        self.b = 0        \n",
        "        self.X = X        \n",
        "        self.Y = Y\n",
        "          \n",
        "                  \n",
        "        for i in range( self.iterations ) :            \n",
        "            self.update_weights()            \n",
        "        return self\n",
        "      \n",
        "      \n",
        "    def update_weights( self ) :           \n",
        "        A = 1 / ( 1 + np.exp( - ( self.X.dot( self.W ) + self.b ) ) )\n",
        "          \n",
        "        tmp = ( A - self.Y.T )        \n",
        "        tmp = np.reshape( tmp, self.m )        \n",
        "        dW = np.dot( self.X.T, tmp ) / self.m         \n",
        "        db = np.sum( tmp ) / self.m \n",
        "          \n",
        "        self.W = self.W - self.learning_rate * dW    \n",
        "        self.b = self.b - self.learning_rate * db\n",
        "          \n",
        "        return self\n",
        "      \n",
        "      \n",
        "    def predict( self, X ) :    \n",
        "        Z = 1 / ( 1 + np.exp( - ( X.dot( self.W ) + self.b ) ) )        \n",
        "        Y = np.where( Z > 0.5, 1, 0 )        \n",
        "        return Y"
      ],
      "execution_count": null,
      "outputs": []
    },
    {
      "cell_type": "code",
      "metadata": {
        "colab": {
          "base_uri": "https://localhost:8080/"
        },
        "id": "sLuuT10Dt7wc",
        "outputId": "179c6731-1db5-4c7a-a27a-ea5023f7a206"
      },
      "source": [
        "model = LogitRegression( learning_rate = 0.01, iterations = 1000 )\n",
        "model.fit( X_train, y_train )\n",
        "Y_pred = model.predict( X_test )\n",
        "print(Y_pred) "
      ],
      "execution_count": null,
      "outputs": [
        {
          "output_type": "stream",
          "name": "stdout",
          "text": [
            "[0 0 0 0 0 0 0 0 0 0 0 0 0 0 0 0 0 0 0 0 0 1 0 0 0 0 0 0 0 0 0 0 1 0 0 0 0\n",
            " 0 0 0 0 0 0 0 0 0 0 0 0 1 0 0 0 0 0 0 1 0 0 0 0 0 0 1 0 0 0 0 0 0 0 0 0 0\n",
            " 0 1 0 0 0 0 0 0 0 0 1 0 0 1 0 0 1 0 0 0 0 0 0 1 0 0 0 0 0 0 0 0 0 0 0 1 0\n",
            " 0 0 0 0 0 0 0 0 0 0 0 0 0 0 0 0 0 0 0 1 1 1 0 0 0 0 0 0 0 0 1 0 0 0 0 0 0\n",
            " 0 0 0 0 1 0 0 0 0 0 1 0 0 0 0 0 0 0 0 0 1 0 0 0 0 0 0]\n"
          ]
        }
      ]
    },
    {
      "cell_type": "code",
      "metadata": {
        "id": "4kNe1hvSt-pf"
      },
      "source": [
        "y_test=list(y_test)"
      ],
      "execution_count": null,
      "outputs": []
    },
    {
      "cell_type": "code",
      "metadata": {
        "colab": {
          "base_uri": "https://localhost:8080/"
        },
        "id": "TtYEZ9gguBjd",
        "outputId": "746ab415-1a1c-4c73-d223-5fa2e6b1c871"
      },
      "source": [
        "correctly_classified = 0\n",
        "count = 0    \n",
        "for count in range( np.size( Y_pred ) ) :   \n",
        "    if y_test[count] == Y_pred[count] :            \n",
        "        correctly_classified = correctly_classified + 1\n",
        "    count = count + 1\n",
        "      \n",
        "print( \"Accuracy on test set by our model       :  \", ( \n",
        "  correctly_classified / count ) * 100 )"
      ],
      "execution_count": null,
      "outputs": [
        {
          "output_type": "stream",
          "name": "stdout",
          "text": [
            "Accuracy on test set by our model       :   71.42857142857143\n"
          ]
        }
      ]
    },
    {
      "cell_type": "markdown",
      "metadata": {
        "id": "82OmIebZuMhd"
      },
      "source": [
        "Testing accuracy of sklearn implementation"
      ]
    },
    {
      "cell_type": "code",
      "metadata": {
        "id": "wyAeJriyuNoF"
      },
      "source": [
        "from sklearn.linear_model import LogisticRegression\n",
        "model1 = LogisticRegression()    \n",
        "model1.fit( X_train, y_train)\n",
        "Y_pred1 = model1.predict( X_test )\n",
        "correctly_classified1 = 0"
      ],
      "execution_count": null,
      "outputs": []
    },
    {
      "cell_type": "code",
      "metadata": {
        "colab": {
          "base_uri": "https://localhost:8080/"
        },
        "id": "ptIXh6rzuSpw",
        "outputId": "b00c6a14-44e2-4e23-c143-5b49785a6908"
      },
      "source": [
        "count = 0    \n",
        "for count in range( np.size( Y_pred ) ) :  \n",
        "      \n",
        "    if y_test[count] == Y_pred1[count] :            \n",
        "        correctly_classified1 = correctly_classified1 + 1\n",
        "          \n",
        "    count = count + 1\n",
        "      \n",
        "print( \"Accuracy on test set by sklearn model   :  \", ( \n",
        "  correctly_classified1 / count ) * 100 )"
      ],
      "execution_count": null,
      "outputs": [
        {
          "output_type": "stream",
          "name": "stdout",
          "text": [
            "Accuracy on test set by sklearn model   :   70.28571428571428\n"
          ]
        }
      ]
    }
  ]
}